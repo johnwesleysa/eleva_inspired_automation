{
 "cells": [
  {
   "cell_type": "code",
   "execution_count": 13,
   "metadata": {},
   "outputs": [],
   "source": [
    "from selenium import webdriver\n",
    "from selenium.webdriver.chrome.service import Service\n",
    "from selenium.webdriver.common.by import By\n",
    "from selenium.webdriver.support.ui import WebDriverWait\n",
    "from selenium.webdriver.support import expected_conditions as EC\n",
    "import time"
   ]
  },
  {
   "cell_type": "code",
   "execution_count": 23,
   "metadata": {},
   "outputs": [],
   "source": [
    "#globals\n",
    "EMAIL = \"john.alencar@escolaeleva.com.br\"\n",
    "PSWD = \"Geforce@1050\""
   ]
  },
  {
   "cell_type": "code",
   "execution_count": 43,
   "metadata": {},
   "outputs": [],
   "source": [
    "service = Service()\n",
    "\n",
    "options = webdriver.ChromeOptions()\n",
    "\n",
    "driver = webdriver.Chrome(service=service, options=options)"
   ]
  },
  {
   "cell_type": "code",
   "execution_count": 44,
   "metadata": {},
   "outputs": [],
   "source": [
    "url = 'https://admin.google.com/ac/home?hl=pt_BR'\n",
    "\n",
    "driver.get(url)"
   ]
  },
  {
   "cell_type": "code",
   "execution_count": 45,
   "metadata": {},
   "outputs": [],
   "source": [
    "# Esperar até que o elemento desejado apareça\n",
    "def aguarde(elemento):\n",
    "    wait = WebDriverWait(driver, 20)\n",
    "    return wait.until(EC.visibility_of_element_located((By.XPATH, elemento)))"
   ]
  },
  {
   "cell_type": "code",
   "execution_count": 46,
   "metadata": {},
   "outputs": [],
   "source": [
    "aguarde('//*[@id=\"identifierId\"]')\n",
    "\n",
    "#digitar email\n",
    "driver.find_element(By.XPATH, '//*[@id=\"identifierId\"]').send_keys(EMAIL)\n",
    "\n",
    "#clicar em avançar\n",
    "driver.find_element(By.XPATH, '//*[@id=\"identifierNext\"]/div/button').click()\n",
    "\n",
    "#agurde até o input aparecer\n",
    "aguarde('//*[@id=\"usernameForm\"]/div[2]/div/div[1]/input')\n",
    "\n",
    "#digitar e-mail novamente\n",
    "driver.find_element(By.XPATH, '//*[@id=\"usernameForm\"]/div[2]/div/div[1]/input').send_keys(EMAIL)\n",
    "\n",
    "#clicar em PRÓXIMO\n",
    "driver.find_element(By.XPATH, '//*[@id=\"usernameForm\"]/div[2]/button').click()\n",
    "\n",
    "#aguarde até o campo de senha aparecer\n",
    "aguarde('//*[@id=\"passwordForm\"]/div[3]/div/div[1]/input')\n",
    "\n",
    "#digite a senha\n",
    "driver.find_element(By.XPATH, '//*[@id=\"passwordForm\"]/div[3]/div/div[1]/input').send_keys(PSWD)\n",
    "\n",
    "#CLICAR EM PRÓXIMO\n",
    "driver.find_element(By.XPATH, '//*[@id=\"passwordForm\"]/div[3]/button').click()\n",
    "\n",
    "#confirmar que sou humano\n",
    "try:\n",
    "    aguarde('//*[@id=\"view_container\"]/div/div/div[2]/div/div[2]/div/div[1]/div/div/button')\n",
    "    driver.find_element(By.XPATH, '//*[@id=\"view_container\"]/div/div/div[2]/div/div[2]/div/div[1]/div/div/button').click()\n",
    "except:\n",
    "    pass\n",
    "\n",
    "#aguarde aparecer a opção de gerenciar\n",
    "try:\n",
    "    aguarde('//*[@id=\"gb\"]/div[2]/div[1]/div[4]/div/a/img')\n",
    "except:\n",
    "    pass\n",
    "\n",
    "#acessar gerenciar\n",
    "driver.get('https://admin.google.com/ac/users?hl=pt_BR')\n",
    "\n",
    "\n"
   ]
  },
  {
   "cell_type": "code",
   "execution_count": 61,
   "metadata": {},
   "outputs": [],
   "source": [
    "\n",
    "#inserir e-mail do aluno\n",
    "driver.find_element(By.XPATH,'//*[@id=\"yDmH0d\"]/c-wiz/div/div[1]/div/div/div[2]/div/div[2]/div/div/div/div/div[2]/div[1]/div[2]/ul/li[1]/div[2]/div[1]/input[2]').send_keys(\"enrico.melo@alunoeleva.com.br\")\n",
    "\n",
    "#aguarde aparecer pesquisar\n",
    "time.sleep(0.2)\n",
    "aguarde('//*[@id=\"nngdp1532\"]')\n",
    "\n",
    "#clicar para pesquisar email\n",
    "driver.find_element(By.XPATH,'//*[@id=\"nngdp1532\"]').click()\n",
    "\n",
    "\n",
    "\n",
    "\n",
    "\n",
    "\n"
   ]
  },
  {
   "cell_type": "code",
   "execution_count": 62,
   "metadata": {},
   "outputs": [],
   "source": [
    "#clicar na select box\n",
    "driver.find_element(By.XPATH, '//*[@id=\"yDmH0d\"]/c-wiz/div/div[1]/div/div/div[2]/div/div[2]/div/div/div/div/div[2]/div[1]/div[3]/div[2]/table/tbody/tr/td[1]/span/div/div/div[2]').click()"
   ]
  },
  {
   "cell_type": "code",
   "execution_count": 63,
   "metadata": {},
   "outputs": [],
   "source": [
    "#clicar em mais opções\n",
    "driver.find_element(By.XPATH,'//*[@id=\"ow35\"]').click()"
   ]
  },
  {
   "cell_type": "code",
   "execution_count": 64,
   "metadata": {},
   "outputs": [],
   "source": [
    "#clicar em alterar onu\n",
    "driver.find_element(By.XPATH,'//*[@id=\"yDmH0d\"]/c-wiz/div/div[1]/div/div/div[2]/div/div[3]/div/div/span[3]/div[2]/div/div').click()\n",
    "\n",
    "#aguarda aa opção de alterar unidade aparecer para continuar\n",
    "aguarde('//*[@id=\"yDmH0d\"]/div[5]/div/div[2]/span/div/div[1]/div/div/div[1]')\n"
   ]
  },
  {
   "cell_type": "code",
   "execution_count": 65,
   "metadata": {},
   "outputs": [
    {
     "ename": "NoSuchElementException",
     "evalue": "Message: no such element: Unable to locate element: {\"method\":\"xpath\",\"selector\":\"//*[@id=\"03ph8a2z3z1yh2r_content\"]/div\"}\n  (Session info: chrome=124.0.6367.210); For documentation on this error, please visit: https://www.selenium.dev/documentation/webdriver/troubleshooting/errors#no-such-element-exception\nStacktrace:\n\tGetHandleVerifier [0x00007FF6D64D1522+60802]\n\t(No symbol) [0x00007FF6D644AC22]\n\t(No symbol) [0x00007FF6D6307CE4]\n\t(No symbol) [0x00007FF6D6356D4D]\n\t(No symbol) [0x00007FF6D6356E1C]\n\t(No symbol) [0x00007FF6D639CE37]\n\t(No symbol) [0x00007FF6D637ABBF]\n\t(No symbol) [0x00007FF6D639A224]\n\t(No symbol) [0x00007FF6D637A923]\n\t(No symbol) [0x00007FF6D6348FEC]\n\t(No symbol) [0x00007FF6D6349C21]\n\tGetHandleVerifier [0x00007FF6D67D41BD+3217949]\n\tGetHandleVerifier [0x00007FF6D6816157+3488183]\n\tGetHandleVerifier [0x00007FF6D680F0DF+3459391]\n\tGetHandleVerifier [0x00007FF6D658B8E6+823622]\n\t(No symbol) [0x00007FF6D6455FBF]\n\t(No symbol) [0x00007FF6D6450EE4]\n\t(No symbol) [0x00007FF6D6451072]\n\t(No symbol) [0x00007FF6D64418C4]\n\tBaseThreadInitThunk [0x00007FFF1868257D+29]\n\tRtlUserThreadStart [0x00007FFF196CAA48+40]\n",
     "output_type": "error",
     "traceback": [
      "\u001b[1;31m---------------------------------------------------------------------------\u001b[0m",
      "\u001b[1;31mNoSuchElementException\u001b[0m                    Traceback (most recent call last)",
      "Cell \u001b[1;32mIn[65], line 1\u001b[0m\n\u001b[1;32m----> 1\u001b[0m \u001b[43mdriver\u001b[49m\u001b[38;5;241;43m.\u001b[39;49m\u001b[43mfind_element\u001b[49m\u001b[43m(\u001b[49m\u001b[43mBy\u001b[49m\u001b[38;5;241;43m.\u001b[39;49m\u001b[43mXPATH\u001b[49m\u001b[43m,\u001b[49m\u001b[38;5;124;43m'\u001b[39;49m\u001b[38;5;124;43m//*[@id=\u001b[39;49m\u001b[38;5;124;43m\"\u001b[39;49m\u001b[38;5;124;43m03ph8a2z3z1yh2r_content\u001b[39;49m\u001b[38;5;124;43m\"\u001b[39;49m\u001b[38;5;124;43m]/div\u001b[39;49m\u001b[38;5;124;43m'\u001b[39;49m\u001b[43m)\u001b[49m\n",
      "File \u001b[1;32mc:\\Users\\john.alencar\\AppData\\Local\\Programs\\Python\\Python312\\Lib\\site-packages\\selenium\\webdriver\\remote\\webdriver.py:741\u001b[0m, in \u001b[0;36mWebDriver.find_element\u001b[1;34m(self, by, value)\u001b[0m\n\u001b[0;32m    738\u001b[0m     by \u001b[38;5;241m=\u001b[39m By\u001b[38;5;241m.\u001b[39mCSS_SELECTOR\n\u001b[0;32m    739\u001b[0m     value \u001b[38;5;241m=\u001b[39m \u001b[38;5;124mf\u001b[39m\u001b[38;5;124m'\u001b[39m\u001b[38;5;124m[name=\u001b[39m\u001b[38;5;124m\"\u001b[39m\u001b[38;5;132;01m{\u001b[39;00mvalue\u001b[38;5;132;01m}\u001b[39;00m\u001b[38;5;124m\"\u001b[39m\u001b[38;5;124m]\u001b[39m\u001b[38;5;124m'\u001b[39m\n\u001b[1;32m--> 741\u001b[0m \u001b[38;5;28;01mreturn\u001b[39;00m \u001b[38;5;28;43mself\u001b[39;49m\u001b[38;5;241;43m.\u001b[39;49m\u001b[43mexecute\u001b[49m\u001b[43m(\u001b[49m\u001b[43mCommand\u001b[49m\u001b[38;5;241;43m.\u001b[39;49m\u001b[43mFIND_ELEMENT\u001b[49m\u001b[43m,\u001b[49m\u001b[43m \u001b[49m\u001b[43m{\u001b[49m\u001b[38;5;124;43m\"\u001b[39;49m\u001b[38;5;124;43musing\u001b[39;49m\u001b[38;5;124;43m\"\u001b[39;49m\u001b[43m:\u001b[49m\u001b[43m \u001b[49m\u001b[43mby\u001b[49m\u001b[43m,\u001b[49m\u001b[43m \u001b[49m\u001b[38;5;124;43m\"\u001b[39;49m\u001b[38;5;124;43mvalue\u001b[39;49m\u001b[38;5;124;43m\"\u001b[39;49m\u001b[43m:\u001b[49m\u001b[43m \u001b[49m\u001b[43mvalue\u001b[49m\u001b[43m}\u001b[49m\u001b[43m)\u001b[49m[\u001b[38;5;124m\"\u001b[39m\u001b[38;5;124mvalue\u001b[39m\u001b[38;5;124m\"\u001b[39m]\n",
      "File \u001b[1;32mc:\\Users\\john.alencar\\AppData\\Local\\Programs\\Python\\Python312\\Lib\\site-packages\\selenium\\webdriver\\remote\\webdriver.py:347\u001b[0m, in \u001b[0;36mWebDriver.execute\u001b[1;34m(self, driver_command, params)\u001b[0m\n\u001b[0;32m    345\u001b[0m response \u001b[38;5;241m=\u001b[39m \u001b[38;5;28mself\u001b[39m\u001b[38;5;241m.\u001b[39mcommand_executor\u001b[38;5;241m.\u001b[39mexecute(driver_command, params)\n\u001b[0;32m    346\u001b[0m \u001b[38;5;28;01mif\u001b[39;00m response:\n\u001b[1;32m--> 347\u001b[0m     \u001b[38;5;28;43mself\u001b[39;49m\u001b[38;5;241;43m.\u001b[39;49m\u001b[43merror_handler\u001b[49m\u001b[38;5;241;43m.\u001b[39;49m\u001b[43mcheck_response\u001b[49m\u001b[43m(\u001b[49m\u001b[43mresponse\u001b[49m\u001b[43m)\u001b[49m\n\u001b[0;32m    348\u001b[0m     response[\u001b[38;5;124m\"\u001b[39m\u001b[38;5;124mvalue\u001b[39m\u001b[38;5;124m\"\u001b[39m] \u001b[38;5;241m=\u001b[39m \u001b[38;5;28mself\u001b[39m\u001b[38;5;241m.\u001b[39m_unwrap_value(response\u001b[38;5;241m.\u001b[39mget(\u001b[38;5;124m\"\u001b[39m\u001b[38;5;124mvalue\u001b[39m\u001b[38;5;124m\"\u001b[39m, \u001b[38;5;28;01mNone\u001b[39;00m))\n\u001b[0;32m    349\u001b[0m     \u001b[38;5;28;01mreturn\u001b[39;00m response\n",
      "File \u001b[1;32mc:\\Users\\john.alencar\\AppData\\Local\\Programs\\Python\\Python312\\Lib\\site-packages\\selenium\\webdriver\\remote\\errorhandler.py:229\u001b[0m, in \u001b[0;36mErrorHandler.check_response\u001b[1;34m(self, response)\u001b[0m\n\u001b[0;32m    227\u001b[0m         alert_text \u001b[38;5;241m=\u001b[39m value[\u001b[38;5;124m\"\u001b[39m\u001b[38;5;124malert\u001b[39m\u001b[38;5;124m\"\u001b[39m]\u001b[38;5;241m.\u001b[39mget(\u001b[38;5;124m\"\u001b[39m\u001b[38;5;124mtext\u001b[39m\u001b[38;5;124m\"\u001b[39m)\n\u001b[0;32m    228\u001b[0m     \u001b[38;5;28;01mraise\u001b[39;00m exception_class(message, screen, stacktrace, alert_text)  \u001b[38;5;66;03m# type: ignore[call-arg]  # mypy is not smart enough here\u001b[39;00m\n\u001b[1;32m--> 229\u001b[0m \u001b[38;5;28;01mraise\u001b[39;00m exception_class(message, screen, stacktrace)\n",
      "\u001b[1;31mNoSuchElementException\u001b[0m: Message: no such element: Unable to locate element: {\"method\":\"xpath\",\"selector\":\"//*[@id=\"03ph8a2z3z1yh2r_content\"]/div\"}\n  (Session info: chrome=124.0.6367.210); For documentation on this error, please visit: https://www.selenium.dev/documentation/webdriver/troubleshooting/errors#no-such-element-exception\nStacktrace:\n\tGetHandleVerifier [0x00007FF6D64D1522+60802]\n\t(No symbol) [0x00007FF6D644AC22]\n\t(No symbol) [0x00007FF6D6307CE4]\n\t(No symbol) [0x00007FF6D6356D4D]\n\t(No symbol) [0x00007FF6D6356E1C]\n\t(No symbol) [0x00007FF6D639CE37]\n\t(No symbol) [0x00007FF6D637ABBF]\n\t(No symbol) [0x00007FF6D639A224]\n\t(No symbol) [0x00007FF6D637A923]\n\t(No symbol) [0x00007FF6D6348FEC]\n\t(No symbol) [0x00007FF6D6349C21]\n\tGetHandleVerifier [0x00007FF6D67D41BD+3217949]\n\tGetHandleVerifier [0x00007FF6D6816157+3488183]\n\tGetHandleVerifier [0x00007FF6D680F0DF+3459391]\n\tGetHandleVerifier [0x00007FF6D658B8E6+823622]\n\t(No symbol) [0x00007FF6D6455FBF]\n\t(No symbol) [0x00007FF6D6450EE4]\n\t(No symbol) [0x00007FF6D6451072]\n\t(No symbol) [0x00007FF6D64418C4]\n\tBaseThreadInitThunk [0x00007FFF1868257D+29]\n\tRtlUserThreadStart [0x00007FFF196CAA48+40]\n"
     ]
    }
   ],
   "source": [
    "driver.find_element(By.XPATH,'//*[@id=\"03ph8a2z3z1yh2r_content\"]/div')"
   ]
  }
 ],
 "metadata": {
  "kernelspec": {
   "display_name": "Python 3",
   "language": "python",
   "name": "python3"
  },
  "language_info": {
   "codemirror_mode": {
    "name": "ipython",
    "version": 3
   },
   "file_extension": ".py",
   "mimetype": "text/x-python",
   "name": "python",
   "nbconvert_exporter": "python",
   "pygments_lexer": "ipython3",
   "version": "3.12.3"
  }
 },
 "nbformat": 4,
 "nbformat_minor": 2
}
